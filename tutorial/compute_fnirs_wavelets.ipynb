{
 "cells": [
  {
   "cell_type": "markdown",
   "metadata": {},
   "source": [
    "# Import fNIRS data into HyPyP\n",
    "\n",
    "Authors         : Ghazaleh Ranjbaran, Caitriona Douglas, Guillaume Dumas\n",
    "\n",
    "Date            : 2022-05-21"
   ]
  },
  {
   "cell_type": "markdown",
   "metadata": {},
   "source": [
    "### Loading useful libraries"
   ]
  },
  {
   "cell_type": "code",
   "execution_count": 1,
   "metadata": {},
   "outputs": [],
   "source": [
    "# Interactive plotting\n",
    "%matplotlib qt\n",
    "\n",
    "import numpy as np\n",
    "import mne\n",
    "import os"
   ]
  },
  {
   "cell_type": "markdown",
   "metadata": {},
   "source": [
    "### Loading fNIRS tools "
   ]
  },
  {
   "cell_type": "code",
   "execution_count": 2,
   "metadata": {},
   "outputs": [
    {
     "name": "stdout",
     "output_type": "stream",
     "text": [
      "The autoreload extension is already loaded. To reload it, use:\n",
      "  %reload_ext autoreload\n"
     ]
    }
   ],
   "source": [
    "%load_ext autoreload\n",
    "%autoreload 2\n",
    "\n",
    "from hypyp.fnirs_tools import load_fnirs\n",
    "from hypyp.fnirs_tools import make_fnirs_montage\n",
    "from hypyp.fnirs_tools import fnirs_epoch\n",
    "from hypyp.fnirs_tools import fnirs_montage_ui"
   ]
  },
  {
   "cell_type": "markdown",
   "metadata": {},
   "source": [
    "### Step 1:  Setting the path:\n",
    "data is in .snirf format without explicit montage file (from https://osf.io/75fet/ )"
   ]
  },
  {
   "cell_type": "code",
   "execution_count": 3,
   "metadata": {},
   "outputs": [],
   "source": [
    "path_1 = \"../data/FNIRS/DCARE_02_sub1.snirf\"\n",
    "\n",
    "path_2 = \"../data/FNIRS/DCARE_02_sub2.snirf\""
   ]
  },
  {
   "cell_type": "markdown",
   "metadata": {},
   "source": [
    "### Step 2:  Loading fNIRS Data\n",
    "\n",
    "HyPyP utelizes MNE python library to load the data, currently 4 types of data can be employed:\n",
    "<ul>\n",
    "<li>SNIRF (.snirf)</li>\n",
    "<br>\n",
    "<li>NIRx (directory or hdr)\n",
    " <br>\n",
    " Note: MNE-Python only supports NIRx files recorded with NIRStar version 15.0 and above and Aurora version 2021 and above. MNE-Python supports reading data from NIRScout and NIRSport devices</li>\n",
    " <br>\n",
    "<li>Hitachi (.csv)</li>\n",
    "<br>\n",
    "<li>BOXY (.txt)</li>\n",
    "</ul>\n",
    " \n",
    "More information at <a href=\"https://mne.tools/stable/auto_tutorials/io/30_reading_fnirs_data.html\">this link</a>"
   ]
  },
  {
   "cell_type": "code",
   "execution_count": 4,
   "metadata": {},
   "outputs": [
    {
     "name": "stdout",
     "output_type": "stream",
     "text": [
      "Loading /Users/gdumas/Documents/Geek/github/HyPyP/tutorial/../data/FNIRS/DCARE_02_sub1.snirf\n",
      "Loading /Users/gdumas/Documents/Geek/github/HyPyP/tutorial/../data/FNIRS/DCARE_02_sub2.snirf\n",
      "Loading /Users/gdumas/Documents/Geek/github/HyPyP/tutorial/../data/FNIRS/DCARE_02_sub1.snirf\n",
      "Loading /Users/gdumas/Documents/Geek/github/HyPyP/tutorial/../data/FNIRS/DCARE_02_sub2.snirf\n"
     ]
    }
   ],
   "source": [
    "fnirs_participant_1 = load_fnirs(path_1, path_2, attr=None, preload=False, verbose=None)[0]\n",
    "fnirs_participant_2 = load_fnirs(path_1, path_2, attr=None, preload=False, verbose=None)[1]"
   ]
  },
  {
   "cell_type": "markdown",
   "metadata": {},
   "source": [
    "### Step 3:  Creating a Compatible Montage\n",
    "\n",
    "MNE-Python provides methods to load standard sensor configurations (montages) from some vendors:\n",
    "\n",
    "'artinis-octamon' : Artinis OctaMon fNIRS (8 sources, 2 detectors)\n",
    "\n",
    "'artinis-brite23' : Artinis Brite23 fNIRS (11 sources, 7 detectors)\n",
    "<br>\n",
    "<br>\n",
    "1. If the montage is compatible with the above format, we can pass the vendor's name as a string to 'mne_standard' argument:\n",
    "<br>\n",
    "<br>\n",
    "Example: location = make_fnirs_montage(mne_standard:str = 'artinis-octamon')\n",
    "<br>\n",
    "<br>\n",
    "Note: In MNE-Python the naming of channels MUST follow the structure S#_D# where # is replaced by the appropriate source and detector numbers and type is either hbo, hbr or the wavelength. \n",
    "<br>\n",
    "<br>\n",
    "2. If the montage is not compatible with one of the built-in supported montages mentioned above and is amonge <a href=\"https://mne.tools/stable/generated/mne.channels.read_custom_montage.html#mne.channels.read_custom_montage\">file formats</a>, we shall pass the file directoy to the 'prob_directory' argument, and set 'create_montage' to False.\n",
    "<br>\n",
    "<br>\n",
    "Example: location = make_fnirs_montage(prob_directory = 'locations.xyz', create_montage = False)\n",
    "<br>\n",
    "<br>\n",
    "3. In other cases the below function helps with building montage compatible with MNE python "
   ]
  },
  {
   "cell_type": "raw",
   "metadata": {},
   "source": [
    "source_labels, detector_labels, Nz, RPA, LPA, head_size = fnirs_montage_ui()"
   ]
  },
  {
   "cell_type": "raw",
   "metadata": {},
   "source": [
    "# directory of the probeInfo.mat file\n",
    "prob_mat_file = '../data/FNIRS/MCARE_01_probeInfo.mat'\n",
    "\n",
    "location = make_fnirs_montage(source_labels, detector_labels, prob_mat_file,\n",
    "                              Nz, RPA, LPA, head_size)"
   ]
  },
  {
   "cell_type": "markdown",
   "metadata": {},
   "source": [
    "Or we can create the inputs list manually and use it in the same way as above "
   ]
  },
  {
   "cell_type": "code",
   "execution_count": 5,
   "metadata": {},
   "outputs": [],
   "source": [
    "#Sources ' labels: S#\n",
    "source_labels = ['S1','S2','S3','S4','S5','S6','S7','S8']\n",
    "#Sources ' labels: D#\n",
    "detector_labels = ['D1','D2','D3','D4','D5','D6','D7','D8']\n",
    "#directory of the probeInfo.mat file\n",
    "prob_mat_file = '../data/FNIRS/MCARE_01_probeInfo.mat'\n",
    "#3D Coordination of the tip of the nose: [x, y, z] in mm\n",
    "Nz_coord = [12.62, 17.33, 16.74]\n",
    "#3D Coordination of the right preauricular: [x, y, z] in mm\n",
    "RPA = [21.0121020904262, 15.9632489747085, 17.2796094659563]\n",
    "#3D Coordination of the left preauricular: [x, y, z] in mm\n",
    "LPA = [4.55522116441745, 14.6744377188919, 18.3544292678269]\n",
    "#Head size in mm\n",
    "head_size = 0.16\n",
    "\n",
    "location = make_fnirs_montage(source_labels, detector_labels, prob_mat_file,\n",
    "                              Nz_coord, RPA, LPA, head_size)"
   ]
  },
  {
   "cell_type": "markdown",
   "metadata": {},
   "source": [
    "### Step 4: Create Epoch Objects: \n",
    "HyPyP is compatible with MNE.epoch data type; we use values compatible with our fnirs sample for each arguments, in other cases arguments can be changed based on the information provided in <a href=\"https://mne.tools/stable/generated/mne.Epochs\">this link</a>"
   ]
  },
  {
   "cell_type": "code",
   "execution_count": 6,
   "metadata": {},
   "outputs": [
    {
     "name": "stdout",
     "output_type": "stream",
     "text": [
      "Used Annotations descriptions: ['1', '2', '3', '4', '5']\n",
      "Multiple event values for single event times found. Creating new event value to reflect simultaneous events.\n",
      "Not setting metadata\n",
      "16 matching events found\n",
      "Setting baseline interval to [-0.128, 0.0] s\n",
      "Applying baseline correction (mode: mean)\n",
      "0 projection items activated\n",
      "Loading data for 16 events and 10 original time points ...\n",
      "0 bad epochs dropped\n",
      "Used Annotations descriptions: ['1', '2', '3', '4', '5']\n",
      "Multiple event values for single event times found. Creating new event value to reflect simultaneous events.\n",
      "Not setting metadata\n",
      "16 matching events found\n",
      "Setting baseline interval to [-0.128, 0.0] s\n",
      "Applying baseline correction (mode: mean)\n",
      "0 projection items activated\n",
      "Loading data for 16 events and 10 original time points ...\n",
      "0 bad epochs dropped\n",
      "Used Annotations descriptions: ['1', '2', '3', '4', '5']\n",
      "Multiple event values for single event times found. Creating new event value to reflect simultaneous events.\n",
      "Not setting metadata\n",
      "16 matching events found\n",
      "Setting baseline interval to [-0.128, 0.0] s\n",
      "Applying baseline correction (mode: mean)\n",
      "0 projection items activated\n",
      "Loading data for 16 events and 10 original time points ...\n",
      "0 bad epochs dropped\n",
      "Used Annotations descriptions: ['1', '2', '3', '4', '5']\n",
      "Multiple event values for single event times found. Creating new event value to reflect simultaneous events.\n",
      "Not setting metadata\n",
      "16 matching events found\n",
      "Setting baseline interval to [-0.128, 0.0] s\n",
      "Applying baseline correction (mode: mean)\n",
      "0 projection items activated\n",
      "Loading data for 16 events and 10 original time points ...\n",
      "0 bad epochs dropped\n"
     ]
    }
   ],
   "source": [
    "fnirs_epo1 = fnirs_epoch(fnirs_participant_1, fnirs_participant_2 ,tmin = -0.1, tmax = 1,\n",
    "                    baseline = (None, 0), preload = True, event_repeated = 'merge')[0]\n",
    "                    \n",
    "fnirs_epo2 = fnirs_epoch(fnirs_participant_1, fnirs_participant_2, tmin = -0.1, tmax = 1,\n",
    "                    baseline = (None, 0), preload = True, event_repeated = 'merge')[1]"
   ]
  },
  {
   "cell_type": "markdown",
   "metadata": {},
   "source": [
    "fnirs_epo1 and fnirs_epo2 are now compatible with tools provided by HyPyP (for visualization and statictical analyses check [this](https://github.com/ppsp-team/HyPyP/blob/master/tutorial/getting_started.ipynb) tutorial)"
   ]
  },
  {
   "cell_type": "markdown",
   "metadata": {},
   "source": [
    "### Step 5: Compute Wavelets"
   ]
  },
  {
   "cell_type": "code",
   "execution_count": 7,
   "metadata": {},
   "outputs": [],
   "source": [
    "from hypyp.analyses import xwt_coherence_morl"
   ]
  },
  {
   "cell_type": "code",
   "execution_count": 18,
   "metadata": {},
   "outputs": [],
   "source": [
    "fnirs_epo1.get_data?"
   ]
  },
  {
   "cell_type": "code",
   "execution_count": 22,
   "metadata": {},
   "outputs": [],
   "source": [
    "WCT, times, frequencies, coif = xwt_coherence_morl(x1=fnirs_epo1.get_data(copy=True)[0, 1, :], x2=fnirs_epo2.get_data(copy=True)[0, 1, :], fs=fnirs_epo1.info['sfreq'], nNotes=12, detrend=True, normalize=True)"
   ]
  },
  {
   "cell_type": "code",
   "execution_count": null,
   "metadata": {},
   "outputs": [],
   "source": []
  }
 ],
 "metadata": {
  "interpreter": {
   "hash": "c11202d2846b22eec7deaf37ea813ba92a5f75b5344a4d16688175855af7948e"
  },
  "kernelspec": {
   "display_name": "Python 3 (ipykernel)",
   "language": "python",
   "name": "python3"
  },
  "language_info": {
   "codemirror_mode": {
    "name": "ipython",
    "version": 3
   },
   "file_extension": ".py",
   "mimetype": "text/x-python",
   "name": "python",
   "nbconvert_exporter": "python",
   "pygments_lexer": "ipython3",
   "version": "3.10.14"
  }
 },
 "nbformat": 4,
 "nbformat_minor": 4
}
